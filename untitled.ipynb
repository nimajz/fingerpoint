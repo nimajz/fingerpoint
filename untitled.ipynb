{
  "nbformat": 4,
  "nbformat_minor": 0,
  "metadata": {
    "colab": {
      "provenance": []
    },
    "kernelspec": {
      "name": "python3",
      "display_name": "Python 3"
    },
    "language_info": {
      "name": "python"
    }
  },
  "cells": [
    {
      "cell_type": "markdown",
      "source": [
        "## This article analyzes and predicts fingerprints using mathematical techniques and machine learning algorithms. These methods can have important applications in the field of security and identification.\n"
      ],
      "metadata": {
        "id": "xkf9EEyVi_4h"
      }
    },
    {
      "cell_type": "markdown",
      "source": [
        "# 1. محاسبه نسبت پیکسل‌های سیاه به سفید"
      ],
      "metadata": {
        "id": "GTTQe-N4jLpX"
      }
    },
    {
      "cell_type": "code",
      "execution_count": 14,
      "metadata": {
        "id": "XNkDu0V8WKbe"
      },
      "outputs": [],
      "source": [
        "from PIL import Image\n",
        "import numpy as np\n",
        "\n",
        "def calculate_black_white_ratio(image_path):\n",
        "    image = Image.open(image_path).convert('L')\n",
        "    image = image.resize((128, 128))  # تغییر اندازه به 128x128\n",
        "    np_image = np.array(image)\n",
        "    black_pixels = np.sum(np_image < 128)\n",
        "    white_pixels = np.sum(np_image >= 128)\n",
        "    ratio = black_pixels / white_pixels\n",
        "    return ratio"
      ]
    },
    {
      "cell_type": "markdown",
      "source": [
        "## 2. ایجاد دیتابیس از نسبت پیکسل‌های سیاه به سفید"
      ],
      "metadata": {
        "id": "9ZfMOPRCjW2n"
      }
    },
    {
      "cell_type": "code",
      "source": [
        "import os\n",
        "\n",
        "# پوشه حاوی تصاویر اثر انگشت\n",
        "image_folder = 'fingerprint_images'\n",
        "\n",
        "ratios = []\n",
        "labels = []\n",
        "\n",
        "for filename in os.listdir(image_folder):\n",
        "    if filename.endswith('.png') or filename.endswith('.jpg'):\n",
        "        label = filename.split('_')[0]  # فرض بر این است که نام فایل شامل label است\n",
        "        image_path = os.path.join(image_folder, filename)\n",
        "        ratio = calculate_black_white_ratio(image_path)\n",
        "        ratios.append(ratio)\n",
        "        labels.append(label)"
      ],
      "metadata": {
        "id": "F1K4Wg7KjbFt"
      },
      "execution_count": null,
      "outputs": []
    },
    {
      "cell_type": "markdown",
      "source": [
        "## 3. آموزش مدل ماشین لرنینگ"
      ],
      "metadata": {
        "id": "Kgr5GOFbjlrb"
      }
    },
    {
      "cell_type": "code",
      "source": [
        "from sklearn.linear_model import LinearRegression\n",
        "from sklearn.model_selection import train_test_split\n",
        "from sklearn.metrics import accuracy_score\n",
        "\n",
        "# تبدیل داده‌ها به آرایه numpy\n",
        "X = np.array(ratios).reshape(-1, 1)\n",
        "y = np.array(labels)\n",
        "\n",
        "# تقسیم داده‌ها به دو مجموعه آموزشی و آزمون\n",
        "X_train, X_test, y_train, y_test = train_test_split(X, y, test_size=0.2, random_state=42)\n",
        "\n",
        "# ایجاد و آموزش مدل رگرسیون خطی\n",
        "model = LinearRegression()\n",
        "model.fit(X_train, y_train)\n",
        "\n",
        "# پیش‌بینی بر روی داده‌های آزمون\n",
        "y_pred = model.predict(X_test)\n",
        "\n",
        "# ارزیابی مدل\n",
        "accuracy = accuracy_score(y_test, y_pred)\n",
        "print(f'Accuracy: {accuracy}')"
      ],
      "metadata": {
        "id": "iaYxP8JnjhI1"
      },
      "execution_count": null,
      "outputs": []
    },
    {
      "cell_type": "markdown",
      "source": [
        "## 4. ایجاد ماتریس برای تبدیل تصویر به آرایه"
      ],
      "metadata": {
        "id": "ZYsKEN9PjtPO"
      }
    },
    {
      "cell_type": "code",
      "source": [
        "def image_to_matrix(image_path):\n",
        "    image = Image.open(image_path).convert('L')\n",
        "    image = image.resize((128, 128))  # تغییر اندازه به 128x128\n",
        "    np_image = np.array(image)\n",
        "    binary_matrix = np.where(np_image < 128, 0, 1)\n",
        "    return binary_matrix"
      ],
      "metadata": {
        "id": "7_XQPuRtj1Vz"
      },
      "execution_count": null,
      "outputs": []
    }
  ]
}